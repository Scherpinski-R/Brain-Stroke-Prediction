{
  "nbformat": 4,
  "nbformat_minor": 0,
  "metadata": {
    "colab": {
      "provenance": [],
      "authorship_tag": "ABX9TyMsYe9X0inFccNXABBnBvgZ"
    },
    "kernelspec": {
      "name": "python3",
      "display_name": "Python 3"
    },
    "language_info": {
      "name": "python"
    }
  },
  "cells": [
    {
      "cell_type": "code",
      "execution_count": 1,
      "metadata": {
        "id": "Mjo1hqRqwCu9"
      },
      "outputs": [],
      "source": [
        "import pandas as pd"
      ]
    },
    {
      "cell_type": "code",
      "source": [
        "from google.colab import data_table\n",
        "data_table.enable_dataframe_formatter()"
      ],
      "metadata": {
        "id": "-BUOx7iXyjJG"
      },
      "execution_count": 2,
      "outputs": []
    },
    {
      "cell_type": "code",
      "source": [
        "dataset = \"BrainStrokeData/full_data.csv\""
      ],
      "metadata": {
        "id": "7tX445sPxXzc"
      },
      "execution_count": 3,
      "outputs": []
    },
    {
      "cell_type": "code",
      "source": [
        "df = pd.read_csv(dataset)\n",
        "\n",
        "Y = df[\"stroke\"]\n",
        "X = df.loc[:, df.columns!=\"stroke\"]"
      ],
      "metadata": {
        "id": "cqGmBr_JwYQE"
      },
      "execution_count": 36,
      "outputs": []
    },
    {
      "cell_type": "markdown",
      "source": [
        "###Etapa de Normalizacao das Features como 'age', 'avg_glucose_level', 'bmi'"
      ],
      "metadata": {
        "id": "fU6rV432b8SN"
      }
    },
    {
      "cell_type": "code",
      "source": [
        "features_list = [\"age\", \"avg_glucose_level\", \"bmi\"]\n",
        "data_to_be_normalized = X[features_list]\n",
        "categorical_data = X.loc[:, ~X.columns.isin(features_list)]\n",
        "\n",
        "data_to_be_normalized"
      ],
      "metadata": {
        "id": "XSQ-ofOkfRcX"
      },
      "execution_count": null,
      "outputs": []
    },
    {
      "cell_type": "code",
      "source": [
        "from sklearn import preprocessing\n",
        "data_normalized = preprocessing.normalize(data_to_be_normalized, norm='l2')\n",
        "df_norm = pd.DataFrame(data_normalized, columns = features_list)\n"
      ],
      "metadata": {
        "id": "90mnA7z_dBWG"
      },
      "execution_count": null,
      "outputs": []
    },
    {
      "cell_type": "code",
      "source": [
        "X_norm = pd.concat([categorical_data, df_norm], axis=1)\n",
        "X_norm"
      ],
      "metadata": {
        "id": "yW2AS8mS6Kxc"
      },
      "execution_count": null,
      "outputs": []
    }
  ]
}