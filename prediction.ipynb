{
  "nbformat": 4,
  "nbformat_minor": 0,
  "metadata": {
    "colab": {
      "provenance": [],
      "authorship_tag": "ABX9TyNsn3wTcc071TKj9bAdF6en"
    },
    "kernelspec": {
      "name": "python3",
      "display_name": "Python 3"
    },
    "language_info": {
      "name": "python"
    }
  },
  "cells": [
    {
      "cell_type": "code",
      "execution_count": 1,
      "metadata": {
        "id": "Mjo1hqRqwCu9"
      },
      "outputs": [],
      "source": [
        "import pandas as pd"
      ]
    },
    {
      "cell_type": "code",
      "source": [
        "from google.colab import data_table\n",
        "data_table.enable_dataframe_formatter()"
      ],
      "metadata": {
        "id": "-BUOx7iXyjJG"
      },
      "execution_count": 2,
      "outputs": []
    },
    {
      "cell_type": "code",
      "source": [
        "dataset_url = \"https://raw.githubusercontent.com/Scherpinski-R/Brain-Stroke-Prediction/main/BrainStrokeData/full_data.csv\""
      ],
      "metadata": {
        "id": "7tX445sPxXzc"
      },
      "execution_count": 3,
      "outputs": []
    },
    {
      "cell_type": "code",
      "source": [
        "df = pd.read_csv(dataset_url)"
      ],
      "metadata": {
        "id": "kxJRdjbS8uul"
      },
      "execution_count": 4,
      "outputs": []
    },
    {
      "cell_type": "markdown",
      "source": [
        "### Como sugerido pelo autor do Dataset, e como temos muitos mais dados para Stroke=0 do que Stroke=1, droparemos instancias com idade < 38"
      ],
      "metadata": {
        "id": "dJFOVUdM8wJh"
      }
    },
    {
      "cell_type": "code",
      "source": [
        "df = df.drop( df[df.age < 38].index )"
      ],
      "metadata": {
        "id": "ciLaXCqK8z-u"
      },
      "execution_count": 5,
      "outputs": []
    },
    {
      "cell_type": "code",
      "source": [
        "y = df[\"stroke\"]\n",
        "X = df.loc[:, df.columns!=\"stroke\"]"
      ],
      "metadata": {
        "id": "cqGmBr_JwYQE"
      },
      "execution_count": 6,
      "outputs": []
    },
    {
      "cell_type": "code",
      "source": [
        "from imblearn.under_sampling import OneSidedSelection"
      ],
      "metadata": {
        "id": "DXNKupvJNbp_"
      },
      "execution_count": 7,
      "outputs": []
    },
    {
      "cell_type": "code",
      "source": [
        "categorical_features = [\"gender\", \"ever_married\", \"work_type\", \"Residence_type\", \"smoking_status\"]"
      ],
      "metadata": {
        "id": "YPsseoQgJf1J"
      },
      "execution_count": 8,
      "outputs": []
    },
    {
      "cell_type": "code",
      "source": [
        "numerical_features = [\"age\", \"avg_glucose_level\", \"bmi\"]"
      ],
      "metadata": {
        "id": "vAP_2eDBtIXS"
      },
      "execution_count": 9,
      "outputs": []
    },
    {
      "cell_type": "code",
      "source": [
        "from sklearn.compose import ColumnTransformer"
      ],
      "metadata": {
        "id": "SHgyDpx8J4Fs"
      },
      "execution_count": 10,
      "outputs": []
    },
    {
      "cell_type": "code",
      "source": [
        "from sklearn.preprocessing import OneHotEncoder"
      ],
      "metadata": {
        "id": "XU-eSf1PKP3C"
      },
      "execution_count": 11,
      "outputs": []
    },
    {
      "cell_type": "code",
      "source": [
        "from sklearn.preprocessing import StandardScaler"
      ],
      "metadata": {
        "id": "zNj9WLxIhO-Q"
      },
      "execution_count": 12,
      "outputs": []
    },
    {
      "cell_type": "code",
      "source": [
        "columns_trans = ColumnTransformer(\n",
        "    transformers=[\n",
        "    (\"cat\", OneHotEncoder(), categorical_features),\n",
        "    (\"num\", StandardScaler(), numerical_features)], \n",
        "    remainder='passthrough'\n",
        ")"
      ],
      "metadata": {
        "id": "hBuKn106J4zW"
      },
      "execution_count": 13,
      "outputs": []
    },
    {
      "cell_type": "code",
      "source": [
        "from imblearn.pipeline import Pipeline "
      ],
      "metadata": {
        "id": "u6T5AdQ0eoqQ"
      },
      "execution_count": 14,
      "outputs": []
    },
    {
      "cell_type": "code",
      "source": [
        "from sklearn.neighbors import KNeighborsClassifier\n",
        "from sklearn.model_selection import train_test_split\n",
        "from sklearn.neighbors import KNeighborsClassifier"
      ],
      "metadata": {
        "id": "_wuQsU1jnk00"
      },
      "execution_count": 15,
      "outputs": []
    },
    {
      "cell_type": "markdown",
      "source": [
        "Undersample com OneSidedSelection = TomekLink + Condensed Nearest Neighbor\n",
        "\n",
        "https://machinelearningmastery.com/undersampling-algorithms-for-imbalanced-classification/\n",
        "\n",
        "https://imbalanced-learn.org/stable/references/generated/imblearn.pipeline.Pipeline.html\n",
        "\n",
        "https://tiaplagata.medium.com/how-scikit-learn-pipelines-make-your-life-so-much-easier-3cfbfa1d9da6"
      ],
      "metadata": {
        "id": "VF2LBik0VHAN"
      }
    },
    {
      "cell_type": "markdown",
      "source": [
        "Foi necessario mudar pipeline pro imblearn pois nao ha suporte no pipeline do sklearn com OneSidedSelection()"
      ],
      "metadata": {
        "id": "hRZJY_4kViOT"
      }
    },
    {
      "cell_type": "code",
      "source": [
        "pipe = Pipeline( [ ('columns_trans',columns_trans), ('oss', OneSidedSelection(n_neighbors=1, n_seeds_S=200)), ('knn', KNeighborsClassifier(n_neighbors=11)) ])"
      ],
      "metadata": {
        "id": "2sHosQ66e1Sm"
      },
      "execution_count": 61,
      "outputs": []
    },
    {
      "cell_type": "code",
      "source": [
        "from sklearn.model_selection import StratifiedKFold"
      ],
      "metadata": {
        "id": "3tGwGwKahktY"
      },
      "execution_count": 46,
      "outputs": []
    },
    {
      "cell_type": "code",
      "source": [
        "cv = StratifiedKFold(n_splits=5)"
      ],
      "metadata": {
        "id": "6pzFWZBOhpFS"
      },
      "execution_count": 47,
      "outputs": []
    },
    {
      "cell_type": "code",
      "source": [
        "from sklearn.model_selection import cross_val_score"
      ],
      "metadata": {
        "id": "8nq1T4hgkKn2"
      },
      "execution_count": 32,
      "outputs": []
    },
    {
      "cell_type": "code",
      "source": [
        "scores = cross_val_score(pipe, X, y, scoring='accuracy', cv=cv, n_jobs=-1)"
      ],
      "metadata": {
        "id": "30oNVnyikI0c"
      },
      "execution_count": 65,
      "outputs": []
    },
    {
      "cell_type": "markdown",
      "source": [
        "Aqui podemos alterar a linha de criacao do pipeline e rodar novamente o comando acima afim de encontrar o melhor hiperparametro para o classificador\n",
        "\n",
        "pouca mudanca de neighbours 7 para 9, porem a tendencia parece ser aumentar\n",
        "a accuracy"
      ],
      "metadata": {
        "id": "x7XRD5Q7lkLj"
      }
    },
    {
      "cell_type": "code",
      "source": [
        "from numpy import mean\n",
        "from numpy import std\n",
        "\n",
        "print('Accuracy: %.3f (%.3f)' % (mean(scores), std(scores)))"
      ],
      "metadata": {
        "id": "3gZ2GsaxkZtw",
        "outputId": "e970e7ff-dc41-453b-8404-f9d8119c4f8e",
        "colab": {
          "base_uri": "https://localhost:8080/"
        }
      },
      "execution_count": 63,
      "outputs": [
        {
          "output_type": "stream",
          "name": "stdout",
          "text": [
            "Accuracy: 0.913 (0.004)\n"
          ]
        }
      ]
    },
    {
      "cell_type": "code",
      "source": [
        "pipe.fit(X_train, y_train)"
      ],
      "metadata": {
        "id": "oQlyIbxbpgZU"
      },
      "execution_count": null,
      "outputs": []
    },
    {
      "cell_type": "code",
      "source": [
        "from sklearn.metrics import confusion_matrix"
      ],
      "metadata": {
        "id": "An7qfHazTJSr"
      },
      "execution_count": null,
      "outputs": []
    },
    {
      "cell_type": "code",
      "source": [
        "c_m = confusion_matrix(y_test, pipe.predict(X_test))\n",
        "c_m"
      ],
      "metadata": {
        "id": "aYh3PaF7SzBe",
        "outputId": "f5955e79-c9ab-4876-e9e5-b7910d84e0f1",
        "colab": {
          "base_uri": "https://localhost:8080/"
        }
      },
      "execution_count": null,
      "outputs": [
        {
          "output_type": "execute_result",
          "data": {
            "text/plain": [
              "array([[644,  45],\n",
              "       [ 60,   5]])"
            ]
          },
          "metadata": {},
          "execution_count": 47
        }
      ]
    },
    {
      "cell_type": "markdown",
      "source": [
        "Em casos de Diagnosticos o objetivo eh minimizar os falsos positivos,\n",
        "podemos trocar os modelos knn ou testas novos hiperparametros\n",
        "\n",
        "obs.: possivel utilizar 3 conjuntos de dados (train, test, validate)"
      ],
      "metadata": {
        "id": "M09jyO1BVsD3"
      }
    },
    {
      "cell_type": "code",
      "source": [
        "falsos_positivos = c_m[1][0] / c_m.sum()\n",
        "print(\"Falso Positivo = {:.3f}%\".format(falsos_positivos*100))"
      ],
      "metadata": {
        "id": "pBNxv6hpTtEt",
        "outputId": "c0426d05-3320-4d91-f88d-8ee2218871e4",
        "colab": {
          "base_uri": "https://localhost:8080/"
        }
      },
      "execution_count": null,
      "outputs": [
        {
          "output_type": "stream",
          "name": "stdout",
          "text": [
            "Falso Positivo = 7.958%\n"
          ]
        }
      ]
    }
  ]
}