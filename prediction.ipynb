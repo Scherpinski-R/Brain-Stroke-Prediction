{
  "nbformat": 4,
  "nbformat_minor": 0,
  "metadata": {
    "colab": {
      "provenance": [],
      "authorship_tag": "ABX9TyOiBPQZPZ+NYGfOei0gni9V"
    },
    "kernelspec": {
      "name": "python3",
      "display_name": "Python 3"
    },
    "language_info": {
      "name": "python"
    }
  },
  "cells": [
    {
      "cell_type": "code",
      "execution_count": 1,
      "metadata": {
        "id": "Mjo1hqRqwCu9"
      },
      "outputs": [],
      "source": [
        "import pandas as pd"
      ]
    },
    {
      "cell_type": "code",
      "source": [
        "from google.colab import data_table\n",
        "data_table.enable_dataframe_formatter()"
      ],
      "metadata": {
        "id": "-BUOx7iXyjJG"
      },
      "execution_count": 2,
      "outputs": []
    },
    {
      "cell_type": "code",
      "source": [
        "dataset_url = \"https://raw.githubusercontent.com/Scherpinski-R/Brain-Stroke-Prediction/main/BrainStrokeData/full_data.csv\""
      ],
      "metadata": {
        "id": "7tX445sPxXzc"
      },
      "execution_count": 3,
      "outputs": []
    },
    {
      "cell_type": "code",
      "source": [
        "df = pd.read_csv(dataset_url)"
      ],
      "metadata": {
        "id": "kxJRdjbS8uul"
      },
      "execution_count": 4,
      "outputs": []
    },
    {
      "cell_type": "markdown",
      "source": [
        "### Como sugerido pelo autor do Dataset, e como temos muitos mais dados para Stroke=0 do que Stroke=1, droparemos instancias com idade < 38"
      ],
      "metadata": {
        "id": "dJFOVUdM8wJh"
      }
    },
    {
      "cell_type": "code",
      "source": [
        "df = df.drop( df[df.age < 38].index )"
      ],
      "metadata": {
        "id": "ciLaXCqK8z-u"
      },
      "execution_count": 6,
      "outputs": []
    },
    {
      "cell_type": "code",
      "source": [
        "y = df[\"stroke\"]\n",
        "X = df.loc[:, df.columns!=\"stroke\"]"
      ],
      "metadata": {
        "id": "cqGmBr_JwYQE"
      },
      "execution_count": 7,
      "outputs": []
    },
    {
      "cell_type": "code",
      "source": [
        "from imblearn.under_sampling import OneSidedSelection"
      ],
      "metadata": {
        "id": "DXNKupvJNbp_"
      },
      "execution_count": 8,
      "outputs": []
    },
    {
      "cell_type": "code",
      "source": [
        "categorical_features = [\"gender\", \"ever_married\", \"work_type\", \"Residence_type\", \"smoking_status\"]"
      ],
      "metadata": {
        "id": "YPsseoQgJf1J"
      },
      "execution_count": 10,
      "outputs": []
    },
    {
      "cell_type": "code",
      "source": [
        "numerical_features = [\"age\", \"avg_glucose_level\", \"bmi\"]"
      ],
      "metadata": {
        "id": "vAP_2eDBtIXS"
      },
      "execution_count": 11,
      "outputs": []
    },
    {
      "cell_type": "code",
      "source": [
        "from sklearn.compose import ColumnTransformer"
      ],
      "metadata": {
        "id": "SHgyDpx8J4Fs"
      },
      "execution_count": 12,
      "outputs": []
    },
    {
      "cell_type": "code",
      "source": [
        "from sklearn.preprocessing import OneHotEncoder"
      ],
      "metadata": {
        "id": "XU-eSf1PKP3C"
      },
      "execution_count": 13,
      "outputs": []
    },
    {
      "cell_type": "code",
      "source": [
        "from sklearn.preprocessing import StandardScaler"
      ],
      "metadata": {
        "id": "zNj9WLxIhO-Q"
      },
      "execution_count": 14,
      "outputs": []
    },
    {
      "cell_type": "code",
      "source": [
        "columns_trans = ColumnTransformer(\n",
        "    transformers=[\n",
        "    (\"cat\", OneHotEncoder(), categorical_features),\n",
        "    (\"num\", StandardScaler(), numerical_features)], \n",
        "    remainder='passthrough'\n",
        ")"
      ],
      "metadata": {
        "id": "hBuKn106J4zW"
      },
      "execution_count": 15,
      "outputs": []
    },
    {
      "cell_type": "code",
      "source": [
        "from imblearn.pipeline import Pipeline "
      ],
      "metadata": {
        "id": "u6T5AdQ0eoqQ"
      },
      "execution_count": 16,
      "outputs": []
    },
    {
      "cell_type": "code",
      "source": [
        "from sklearn.neighbors import KNeighborsClassifier\n",
        "from sklearn.model_selection import train_test_split\n",
        "from sklearn.neighbors import KNeighborsClassifier"
      ],
      "metadata": {
        "id": "_wuQsU1jnk00"
      },
      "execution_count": 17,
      "outputs": []
    },
    {
      "cell_type": "markdown",
      "source": [
        "Undersample com OneSidedSelection = TomekLink + Condensed Nearest Neighbor\n",
        "\n",
        "https://machinelearningmastery.com/undersampling-algorithms-for-imbalanced-classification/\n",
        "\n",
        "https://imbalanced-learn.org/stable/references/generated/imblearn.pipeline.Pipeline.html\n",
        "\n",
        "https://tiaplagata.medium.com/how-scikit-learn-pipelines-make-your-life-so-much-easier-3cfbfa1d9da6"
      ],
      "metadata": {
        "id": "VF2LBik0VHAN"
      }
    },
    {
      "cell_type": "markdown",
      "source": [
        "Foi necessario mudar pipeline pro imblearn pois nao ha suporte no pipeline do sklearn com OneSidedSelection()"
      ],
      "metadata": {
        "id": "hRZJY_4kViOT"
      }
    },
    {
      "cell_type": "code",
      "source": [
        "pipe = Pipeline( [ ('columns_trans',columns_trans), ('oss', OneSidedSelection(n_neighbors=1, n_seeds_S=200)), ('knn', KNeighborsClassifier(n_neighbors=3)) ])"
      ],
      "metadata": {
        "id": "2sHosQ66e1Sm"
      },
      "execution_count": 44,
      "outputs": []
    },
    {
      "cell_type": "code",
      "source": [
        "X_train, X_test, y_train, y_test = train_test_split(X, y) # TO-DO: Criar K-Fold "
      ],
      "metadata": {
        "id": "2s2rR5BKxYzd"
      },
      "execution_count": 19,
      "outputs": []
    },
    {
      "cell_type": "code",
      "source": [
        "pipe.fit(X_train, y_train)"
      ],
      "metadata": {
        "id": "oQlyIbxbpgZU",
        "outputId": "3b26a2e3-6a47-4e29-d01f-e03a0ccadc51",
        "colab": {
          "base_uri": "https://localhost:8080/"
        }
      },
      "execution_count": 45,
      "outputs": [
        {
          "output_type": "execute_result",
          "data": {
            "text/plain": [
              "Pipeline(steps=[('columns_trans',\n",
              "                 ColumnTransformer(remainder='passthrough',\n",
              "                                   transformers=[('cat', OneHotEncoder(),\n",
              "                                                  ['gender', 'ever_married',\n",
              "                                                   'work_type',\n",
              "                                                   'Residence_type',\n",
              "                                                   'smoking_status']),\n",
              "                                                 ('num', StandardScaler(),\n",
              "                                                  ['age', 'avg_glucose_level',\n",
              "                                                   'bmi'])])),\n",
              "                ('oss', OneSidedSelection(n_neighbors=1, n_seeds_S=200)),\n",
              "                ('knn', KNeighborsClassifier(n_neighbors=3))])"
            ]
          },
          "metadata": {},
          "execution_count": 45
        }
      ]
    },
    {
      "cell_type": "code",
      "source": [
        "pipe.score(X_test, y_test) # To-DO: Criar matriz de confusao"
      ],
      "metadata": {
        "id": "6UZoxz5Muamy",
        "outputId": "87d8f2cd-51fb-4698-d595-31c33d5c43b5",
        "colab": {
          "base_uri": "https://localhost:8080/"
        }
      },
      "execution_count": 46,
      "outputs": [
        {
          "output_type": "execute_result",
          "data": {
            "text/plain": [
              "0.8607427055702918"
            ]
          },
          "metadata": {},
          "execution_count": 46
        }
      ]
    },
    {
      "cell_type": "code",
      "source": [
        "y.shape"
      ],
      "metadata": {
        "id": "3dbnbtA97aor",
        "outputId": "4683a09c-22ef-42ed-ea48-7b962139ccee",
        "colab": {
          "base_uri": "https://localhost:8080/"
        }
      },
      "execution_count": 22,
      "outputs": [
        {
          "output_type": "execute_result",
          "data": {
            "text/plain": [
              "(3015,)"
            ]
          },
          "metadata": {},
          "execution_count": 22
        }
      ]
    },
    {
      "cell_type": "code",
      "source": [
        "y.sum()"
      ],
      "metadata": {
        "id": "bTWY7fHl7puO",
        "outputId": "20498bdd-8a31-49d1-c663-252833e92586",
        "colab": {
          "base_uri": "https://localhost:8080/"
        }
      },
      "execution_count": 23,
      "outputs": [
        {
          "output_type": "execute_result",
          "data": {
            "text/plain": [
              "245"
            ]
          },
          "metadata": {},
          "execution_count": 23
        }
      ]
    },
    {
      "cell_type": "code",
      "source": [
        "y_train.to_numpy().sum()"
      ],
      "metadata": {
        "id": "dViGfIyGSlod",
        "outputId": "1a32e8ae-b167-4cce-99cb-8ff4421a894a",
        "colab": {
          "base_uri": "https://localhost:8080/"
        }
      },
      "execution_count": 49,
      "outputs": [
        {
          "output_type": "execute_result",
          "data": {
            "text/plain": [
              "180"
            ]
          },
          "metadata": {},
          "execution_count": 49
        }
      ]
    },
    {
      "cell_type": "code",
      "source": [
        "y_train.shape"
      ],
      "metadata": {
        "id": "SdamIz04SusK",
        "outputId": "133b5ebb-f9ba-4d31-bd13-375cb816abf1",
        "colab": {
          "base_uri": "https://localhost:8080/"
        }
      },
      "execution_count": 50,
      "outputs": [
        {
          "output_type": "execute_result",
          "data": {
            "text/plain": [
              "(2261,)"
            ]
          },
          "metadata": {},
          "execution_count": 50
        }
      ]
    },
    {
      "cell_type": "code",
      "source": [
        "from sklearn.metrics import confusion_matrix"
      ],
      "metadata": {
        "id": "An7qfHazTJSr"
      },
      "execution_count": 28,
      "outputs": []
    },
    {
      "cell_type": "code",
      "source": [
        "c_m = confusion_matrix(y_test, pipe.predict(X_test))\n",
        "c_m"
      ],
      "metadata": {
        "id": "aYh3PaF7SzBe",
        "outputId": "f5955e79-c9ab-4876-e9e5-b7910d84e0f1",
        "colab": {
          "base_uri": "https://localhost:8080/"
        }
      },
      "execution_count": 47,
      "outputs": [
        {
          "output_type": "execute_result",
          "data": {
            "text/plain": [
              "array([[644,  45],\n",
              "       [ 60,   5]])"
            ]
          },
          "metadata": {},
          "execution_count": 47
        }
      ]
    },
    {
      "cell_type": "markdown",
      "source": [
        "Em casos de Diagnosticos o objetivo eh minimizar os falsos positivos,\n",
        "podemos trocar os modelos knn ou testas novos hiperparametros\n",
        "\n",
        "obs.: possivel utilizar 3 conjuntos de dados (train, test, validate)"
      ],
      "metadata": {
        "id": "M09jyO1BVsD3"
      }
    },
    {
      "cell_type": "code",
      "source": [
        "falsos_positivos = c_m[1][0] / c_m.sum()\n",
        "print(\"Falso Positivo = {:.3f}%\".format(falsos_positivos*100))"
      ],
      "metadata": {
        "id": "pBNxv6hpTtEt",
        "outputId": "c0426d05-3320-4d91-f88d-8ee2218871e4",
        "colab": {
          "base_uri": "https://localhost:8080/"
        }
      },
      "execution_count": 48,
      "outputs": [
        {
          "output_type": "stream",
          "name": "stdout",
          "text": [
            "Falso Positivo = 7.958%\n"
          ]
        }
      ]
    }
  ]
}