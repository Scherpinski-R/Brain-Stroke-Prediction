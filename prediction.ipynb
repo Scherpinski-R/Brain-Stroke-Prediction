{
  "cells": [
    {
      "cell_type": "code",
      "execution_count": 1,
      "metadata": {
        "id": "Mjo1hqRqwCu9"
      },
      "outputs": [],
      "source": [
        "import pandas as pd"
      ]
    },
    {
      "cell_type": "code",
      "execution_count": 2,
      "metadata": {
        "id": "-BUOx7iXyjJG"
      },
      "outputs": [],
      "source": [
        "from google.colab import data_table\n",
        "data_table.enable_dataframe_formatter()"
      ]
    },
    {
      "cell_type": "code",
      "execution_count": 3,
      "metadata": {
        "id": "7tX445sPxXzc"
      },
      "outputs": [],
      "source": [
        "dataset_url = \"https://raw.githubusercontent.com/Scherpinski-R/Brain-Stroke-Prediction/main/BrainStrokeData/full_data.csv\""
      ]
    },
    {
      "cell_type": "code",
      "execution_count": 4,
      "metadata": {
        "id": "kxJRdjbS8uul"
      },
      "outputs": [],
      "source": [
        "df = pd.read_csv(dataset_url)"
      ]
    },
    {
      "cell_type": "markdown",
      "metadata": {
        "id": "dJFOVUdM8wJh"
      },
      "source": [
        "### Como sugerido pelo autor do Dataset, e como temos muitos mais dados para Stroke=0 do que Stroke=1, droparemos instancias com idade < 38"
      ]
    },
    {
      "cell_type": "code",
      "execution_count": 5,
      "metadata": {
        "id": "ciLaXCqK8z-u"
      },
      "outputs": [],
      "source": [
        "df = df.drop( df[df.age < 38].index )"
      ]
    },
    {
      "cell_type": "code",
      "execution_count": 6,
      "metadata": {
        "id": "cqGmBr_JwYQE"
      },
      "outputs": [],
      "source": [
        "y = df[\"stroke\"]\n",
        "X = df.loc[:, df.columns!=\"stroke\"]"
      ]
    },
    {
      "cell_type": "code",
      "execution_count": 7,
      "metadata": {
        "id": "DXNKupvJNbp_"
      },
      "outputs": [],
      "source": [
        "from imblearn.under_sampling import OneSidedSelection"
      ]
    },
    {
      "cell_type": "code",
      "execution_count": 8,
      "metadata": {
        "id": "YPsseoQgJf1J"
      },
      "outputs": [],
      "source": [
        "categorical_features = [\"gender\", \"ever_married\", \"work_type\", \"Residence_type\", \"smoking_status\"]"
      ]
    },
    {
      "cell_type": "code",
      "execution_count": 9,
      "metadata": {
        "id": "vAP_2eDBtIXS"
      },
      "outputs": [],
      "source": [
        "numerical_features = [\"age\", \"avg_glucose_level\", \"bmi\"]"
      ]
    },
    {
      "cell_type": "code",
      "execution_count": 10,
      "metadata": {
        "id": "SHgyDpx8J4Fs"
      },
      "outputs": [],
      "source": [
        "from sklearn.compose import ColumnTransformer"
      ]
    },
    {
      "cell_type": "code",
      "execution_count": 11,
      "metadata": {
        "id": "XU-eSf1PKP3C"
      },
      "outputs": [],
      "source": [
        "from sklearn.preprocessing import OneHotEncoder"
      ]
    },
    {
      "cell_type": "code",
      "execution_count": 12,
      "metadata": {
        "id": "zNj9WLxIhO-Q"
      },
      "outputs": [],
      "source": [
        "from sklearn.preprocessing import StandardScaler"
      ]
    },
    {
      "cell_type": "code",
      "execution_count": 13,
      "metadata": {
        "id": "hBuKn106J4zW"
      },
      "outputs": [],
      "source": [
        "columns_trans = ColumnTransformer(\n",
        "    transformers=[\n",
        "    (\"cat\", OneHotEncoder(), categorical_features),\n",
        "    (\"num\", StandardScaler(), numerical_features)], \n",
        "    remainder='passthrough'\n",
        ")"
      ]
    },
    {
      "cell_type": "code",
      "execution_count": 14,
      "metadata": {
        "id": "u6T5AdQ0eoqQ"
      },
      "outputs": [],
      "source": [
        "from imblearn.pipeline import Pipeline "
      ]
    },
    {
      "cell_type": "code",
      "execution_count": 15,
      "metadata": {
        "id": "_wuQsU1jnk00"
      },
      "outputs": [],
      "source": [
        "from sklearn.neighbors import KNeighborsClassifier\n",
        "from sklearn.neighbors import KNeighborsClassifier"
      ]
    },
    {
      "cell_type": "markdown",
      "metadata": {
        "id": "VF2LBik0VHAN"
      },
      "source": [
        "Undersample com OneSidedSelection = TomekLink + Condensed Nearest Neighbor\n",
        "\n",
        "https://machinelearningmastery.com/undersampling-algorithms-for-imbalanced-classification/\n",
        "\n",
        "https://imbalanced-learn.org/stable/references/generated/imblearn.pipeline.Pipeline.html\n",
        "\n",
        "https://tiaplagata.medium.com/how-scikit-learn-pipelines-make-your-life-so-much-easier-3cfbfa1d9da6"
      ]
    },
    {
      "cell_type": "markdown",
      "metadata": {
        "id": "hRZJY_4kViOT"
      },
      "source": [
        "Foi necessario mudar pipeline pro imblearn pois nao ha suporte no pipeline do sklearn com OneSidedSelection()"
      ]
    },
    {
      "cell_type": "code",
      "execution_count": 16,
      "metadata": {
        "id": "2sHosQ66e1Sm"
      },
      "outputs": [],
      "source": [
        "pipe = Pipeline( [ ('columns_trans',columns_trans), ('oss', OneSidedSelection(n_neighbors=1, n_seeds_S=200)), ('knn', KNeighborsClassifier(n_neighbors=11)) ])"
      ]
    },
    {
      "cell_type": "code",
      "execution_count": 17,
      "metadata": {
        "id": "3tGwGwKahktY"
      },
      "outputs": [],
      "source": [
        "from sklearn.model_selection import StratifiedKFold"
      ]
    },
    {
      "cell_type": "code",
      "execution_count": 18,
      "metadata": {
        "id": "6pzFWZBOhpFS"
      },
      "outputs": [],
      "source": [
        "cv = StratifiedKFold(n_splits=5)"
      ]
    },
    {
      "cell_type": "code",
      "execution_count": 19,
      "metadata": {
        "id": "8nq1T4hgkKn2"
      },
      "outputs": [],
      "source": [
        "from sklearn.model_selection import cross_validate"
      ]
    },
    {
      "cell_type": "markdown",
      "metadata": {
        "id": "r-pMF0dK74AK"
      },
      "source": [
        "Defnição da função da Matriz Confusão:"
      ]
    },
    {
      "cell_type": "code",
      "execution_count": 20,
      "metadata": {
        "id": "G1Rq5-Js74AR"
      },
      "outputs": [],
      "source": [
        "import numpy as np\n",
        "\n",
        "def confusion_matrix(real, predicted):\n",
        "    \n",
        "    #Define quais são as classes\n",
        "    negative = 0\n",
        "    positive = 1\n",
        "    \n",
        "    #Inicializa valores\n",
        "    tp, tn, fp, fn = 0, 0, 0, 0\n",
        "    \n",
        "    for (i,real_value) in enumerate(real):\n",
        "        if real_value == positive:\n",
        "            if real_value == predicted[i]:\n",
        "                tp = tp + 1\n",
        "            else:\n",
        "                fp = fp + 1\n",
        "        if real_value == negative:\n",
        "            if real_value == predicted[i]:\n",
        "                tn = tn + 1\n",
        "            else: \n",
        "                fn = fn + 1\n",
        "                \n",
        "    matrix = np.array([[tp,fn],[fp,tn]])\n",
        "    \n",
        "    return matrix"
      ]
    },
    {
      "cell_type": "code",
      "execution_count": 21,
      "metadata": {
        "id": "30oNVnyikI0c",
        "outputId": "23702ef5-b77e-4955-ad28-844b87f91601",
        "colab": {
          "base_uri": "https://localhost:8080/"
        }
      },
      "outputs": [
        {
          "output_type": "execute_result",
          "data": {
            "text/plain": [
              "array([ 1,  2,  5,  3,  5,  1, 11])"
            ]
          },
          "metadata": {},
          "execution_count": 21
        }
      ],
      "source": [
        "def confusion_matrix_scorer(clf, X, y):\n",
        "  y_pred = clf.predict(X)\n",
        "  cm = confusion_matrix(y, y_pred)\n",
        "  return {'tn': cm[0, 0], 'fp': cm[0, 1],\n",
        "          'fn': cm[1, 0], 'tp': cm[1, 1]}\n",
        "\n",
        "cv = StratifiedKFold(n_splits=7)\n",
        "\n",
        "cv_result = cross_validate(pipe, X, y, scoring=confusion_matrix_scorer, cv=cv, n_jobs=-1)\n",
        "cv_result['test_fp']"
      ]
    },
    {
      "cell_type": "markdown",
      "source": [
        "Depois de validado os melhores hiperparametros usamos todos os dados"
      ],
      "metadata": {
        "id": "YxC5aPkG9uOB"
      }
    },
    {
      "cell_type": "code",
      "source": [
        "from sklearn.model_selection import train_test_split"
      ],
      "metadata": {
        "id": "gnaZsb5W-5hZ"
      },
      "execution_count": 22,
      "outputs": []
    },
    {
      "cell_type": "code",
      "source": [
        "X_train, X_test, y_train, y_test = train_test_split(X, y) "
      ],
      "metadata": {
        "id": "pXDktWmA9tUH"
      },
      "execution_count": 23,
      "outputs": []
    },
    {
      "cell_type": "code",
      "execution_count": 24,
      "metadata": {
        "id": "oQlyIbxbpgZU",
        "outputId": "718fb469-af5e-4ab0-8820-531ddb887fed",
        "colab": {
          "base_uri": "https://localhost:8080/"
        }
      },
      "outputs": [
        {
          "output_type": "execute_result",
          "data": {
            "text/plain": [
              "Pipeline(steps=[('columns_trans',\n",
              "                 ColumnTransformer(remainder='passthrough',\n",
              "                                   transformers=[('cat', OneHotEncoder(),\n",
              "                                                  ['gender', 'ever_married',\n",
              "                                                   'work_type',\n",
              "                                                   'Residence_type',\n",
              "                                                   'smoking_status']),\n",
              "                                                 ('num', StandardScaler(),\n",
              "                                                  ['age', 'avg_glucose_level',\n",
              "                                                   'bmi'])])),\n",
              "                ('oss', OneSidedSelection(n_neighbors=1, n_seeds_S=200)),\n",
              "                ('knn', KNeighborsClassifier(n_neighbors=11))])"
            ]
          },
          "metadata": {},
          "execution_count": 24
        }
      ],
      "source": [
        "pipe.fit(X_train, y_train)"
      ]
    },
    {
      "cell_type": "markdown",
      "metadata": {
        "id": "D1KKECa_74AS"
      },
      "source": [
        "Executando a Matriz Confusão e Métricas resultantes:"
      ]
    },
    {
      "cell_type": "code",
      "execution_count": 25,
      "metadata": {
        "id": "XpGNaqJn74AS",
        "outputId": "af71adc3-e4c8-4208-b23f-25e7c359bd80",
        "colab": {
          "base_uri": "https://localhost:8080/"
        }
      },
      "outputs": [
        {
          "output_type": "stream",
          "name": "stdout",
          "text": [
            "Matriz Confusão: \n",
            "[[  1   3]\n",
            " [ 70 680]]\n"
          ]
        }
      ],
      "source": [
        "real = y_test.to_numpy()\n",
        "predicted = pipe.predict(X_test)\n",
        "matrix = confusion_matrix(real, predicted)\n",
        "\n",
        "print('Matriz Confusão: \\n{}'.format(matrix))"
      ]
    },
    {
      "cell_type": "code",
      "execution_count": 26,
      "metadata": {
        "id": "HT6XMOVk74AS",
        "outputId": "5d045041-bc28-4154-96f2-16e771fe3d58",
        "colab": {
          "base_uri": "https://localhost:8080/"
        }
      },
      "outputs": [
        {
          "output_type": "stream",
          "name": "stdout",
          "text": [
            "Acurácia: 90.32%\n",
            "Recall: 25.00%\n",
            "Precisão: 1.41%\n",
            "F-Score: 2.67%\n"
          ]
        }
      ],
      "source": [
        "acc = (matrix[0][0] + matrix[1][1])/(matrix[0][0] + matrix[0][1] + matrix[1][0] + matrix[1][1])\n",
        "recall = (matrix[0][0])/(matrix[0][0] + matrix[0][1])\n",
        "precision = (matrix[0][0])/(matrix[0][0] + matrix[1][0])\n",
        "f_score = 2*((precision*recall)/(precision+recall))\n",
        "\n",
        "print('Acurácia: {:.2f}%'.format(acc*100))\n",
        "print('Recall: {:.2f}%'.format(recall*100))\n",
        "print('Precisão: {:.2f}%'.format(precision*100))\n",
        "print('F-Score: {:.2f}%'.format(f_score*100))"
      ]
    }
  ],
  "metadata": {
    "colab": {
      "provenance": []
    },
    "kernelspec": {
      "display_name": "Python 3",
      "name": "python3"
    },
    "language_info": {
      "name": "python"
    }
  },
  "nbformat": 4,
  "nbformat_minor": 0
}