{
  "cells": [
    {
      "cell_type": "code",
      "execution_count": 1,
      "metadata": {
        "id": "Mjo1hqRqwCu9"
      },
      "outputs": [],
      "source": [
        "import pandas as pd"
      ]
    },
    {
      "cell_type": "code",
      "execution_count": 2,
      "metadata": {
        "id": "-BUOx7iXyjJG"
      },
      "outputs": [],
      "source": [
        "from google.colab import data_table\n",
        "data_table.enable_dataframe_formatter()"
      ]
    },
    {
      "cell_type": "code",
      "execution_count": 3,
      "metadata": {
        "id": "7tX445sPxXzc"
      },
      "outputs": [],
      "source": [
        "dataset_url = \"https://raw.githubusercontent.com/Scherpinski-R/Brain-Stroke-Prediction/main/BrainStrokeData/full_data.csv\""
      ]
    },
    {
      "cell_type": "code",
      "execution_count": 4,
      "metadata": {
        "id": "kxJRdjbS8uul"
      },
      "outputs": [],
      "source": [
        "df = pd.read_csv(dataset_url)"
      ]
    },
    {
      "cell_type": "markdown",
      "metadata": {
        "id": "dJFOVUdM8wJh"
      },
      "source": [
        "### Como sugerido pelo autor do Dataset, e como temos muitos mais dados para Stroke=0 do que Stroke=1, droparemos instancias com idade < 38"
      ]
    },
    {
      "cell_type": "code",
      "execution_count": 5,
      "metadata": {
        "id": "ciLaXCqK8z-u"
      },
      "outputs": [],
      "source": [
        "df = df.drop( df[df.age < 38].index )"
      ]
    },
    {
      "cell_type": "code",
      "execution_count": 6,
      "metadata": {
        "id": "cqGmBr_JwYQE"
      },
      "outputs": [],
      "source": [
        "y = df[\"stroke\"]\n",
        "X = df.loc[:, df.columns!=\"stroke\"]"
      ]
    },
    {
      "cell_type": "code",
      "execution_count": 7,
      "metadata": {
        "id": "DXNKupvJNbp_"
      },
      "outputs": [],
      "source": [
        "from imblearn.under_sampling import OneSidedSelection"
      ]
    },
    {
      "cell_type": "code",
      "execution_count": 8,
      "metadata": {
        "id": "YPsseoQgJf1J"
      },
      "outputs": [],
      "source": [
        "categorical_features = [\"gender\", \"ever_married\", \"work_type\", \"Residence_type\", \"smoking_status\"]"
      ]
    },
    {
      "cell_type": "code",
      "execution_count": 9,
      "metadata": {
        "id": "vAP_2eDBtIXS"
      },
      "outputs": [],
      "source": [
        "numerical_features = [\"age\", \"avg_glucose_level\", \"bmi\"]"
      ]
    },
    {
      "cell_type": "code",
      "execution_count": 10,
      "metadata": {
        "id": "SHgyDpx8J4Fs"
      },
      "outputs": [],
      "source": [
        "from sklearn.compose import ColumnTransformer"
      ]
    },
    {
      "cell_type": "code",
      "execution_count": 11,
      "metadata": {
        "id": "XU-eSf1PKP3C"
      },
      "outputs": [],
      "source": [
        "from sklearn.preprocessing import OneHotEncoder"
      ]
    },
    {
      "cell_type": "code",
      "execution_count": 12,
      "metadata": {
        "id": "zNj9WLxIhO-Q"
      },
      "outputs": [],
      "source": [
        "from sklearn.preprocessing import StandardScaler"
      ]
    },
    {
      "cell_type": "code",
      "execution_count": 13,
      "metadata": {
        "id": "hBuKn106J4zW"
      },
      "outputs": [],
      "source": [
        "columns_trans = ColumnTransformer(\n",
        "    transformers=[\n",
        "    (\"cat\", OneHotEncoder(), categorical_features),\n",
        "    (\"num\", StandardScaler(), numerical_features)], \n",
        "    remainder='passthrough'\n",
        ")"
      ]
    },
    {
      "cell_type": "code",
      "execution_count": 14,
      "metadata": {
        "id": "u6T5AdQ0eoqQ"
      },
      "outputs": [],
      "source": [
        "from imblearn.pipeline import Pipeline "
      ]
    },
    {
      "cell_type": "code",
      "execution_count": 15,
      "metadata": {
        "id": "_wuQsU1jnk00"
      },
      "outputs": [],
      "source": [
        "from sklearn.neighbors import KNeighborsClassifier\n",
        "from sklearn.model_selection import train_test_split\n",
        "from sklearn.neighbors import KNeighborsClassifier"
      ]
    },
    {
      "cell_type": "markdown",
      "metadata": {
        "id": "VF2LBik0VHAN"
      },
      "source": [
        "Undersample com OneSidedSelection = TomekLink + Condensed Nearest Neighbor\n",
        "\n",
        "https://machinelearningmastery.com/undersampling-algorithms-for-imbalanced-classification/\n",
        "\n",
        "https://imbalanced-learn.org/stable/references/generated/imblearn.pipeline.Pipeline.html\n",
        "\n",
        "https://tiaplagata.medium.com/how-scikit-learn-pipelines-make-your-life-so-much-easier-3cfbfa1d9da6"
      ]
    },
    {
      "cell_type": "markdown",
      "metadata": {
        "id": "hRZJY_4kViOT"
      },
      "source": [
        "Foi necessario mudar pipeline pro imblearn pois nao ha suporte no pipeline do sklearn com OneSidedSelection()"
      ]
    },
    {
      "cell_type": "code",
      "execution_count": 61,
      "metadata": {
        "id": "2sHosQ66e1Sm"
      },
      "outputs": [],
      "source": [
        "pipe = Pipeline( [ ('columns_trans',columns_trans), ('oss', OneSidedSelection(n_neighbors=1, n_seeds_S=200)), ('knn', KNeighborsClassifier(n_neighbors=11)) ])"
      ]
    },
    {
      "cell_type": "code",
      "execution_count": 46,
      "metadata": {
        "id": "3tGwGwKahktY"
      },
      "outputs": [],
      "source": [
        "from sklearn.model_selection import StratifiedKFold"
      ]
    },
    {
      "cell_type": "code",
      "execution_count": 47,
      "metadata": {
        "id": "6pzFWZBOhpFS"
      },
      "outputs": [],
      "source": [
        "cv = StratifiedKFold(n_splits=5)"
      ]
    },
    {
      "cell_type": "code",
      "execution_count": 32,
      "metadata": {
        "id": "8nq1T4hgkKn2"
      },
      "outputs": [],
      "source": [
        "from sklearn.model_selection import cross_val_score"
      ]
    },
    {
      "cell_type": "code",
      "execution_count": 65,
      "metadata": {
        "id": "30oNVnyikI0c"
      },
      "outputs": [],
      "source": [
        "scores = cross_val_score(pipe, X, y, scoring='accuracy', cv=cv, n_jobs=-1)"
      ]
    },
    {
      "cell_type": "markdown",
      "metadata": {
        "id": "x7XRD5Q7lkLj"
      },
      "source": [
        "Aqui podemos alterar a linha de criacao do pipeline e rodar novamente o comando acima afim de encontrar o melhor hiperparametro para o classificador\n",
        "\n",
        "pouca mudanca de neighbours 7 para 9, porem a tendencia parece ser aumentar\n",
        "a accuracy"
      ]
    },
    {
      "cell_type": "code",
      "execution_count": 63,
      "metadata": {
        "colab": {
          "base_uri": "https://localhost:8080/"
        },
        "id": "3gZ2GsaxkZtw",
        "outputId": "e970e7ff-dc41-453b-8404-f9d8119c4f8e"
      },
      "outputs": [
        {
          "name": "stdout",
          "output_type": "stream",
          "text": [
            "Accuracy: 0.913 (0.004)\n"
          ]
        }
      ],
      "source": [
        "from numpy import mean\n",
        "from numpy import std\n",
        "\n",
        "print('Accuracy: %.3f (%.3f)' % (mean(scores), std(scores)))"
      ]
    },
    {
      "cell_type": "code",
      "execution_count": null,
      "metadata": {
        "id": "oQlyIbxbpgZU"
      },
      "outputs": [],
      "source": [
        "pipe.fit(X_train, y_train)"
      ]
    },
    {
      "cell_type": "code",
      "execution_count": null,
      "metadata": {
        "id": "An7qfHazTJSr"
      },
      "outputs": [],
      "source": [
        "from sklearn.metrics import confusion_matrix"
      ]
    },
    {
      "cell_type": "code",
      "execution_count": null,
      "metadata": {
        "colab": {
          "base_uri": "https://localhost:8080/"
        },
        "id": "aYh3PaF7SzBe",
        "outputId": "f5955e79-c9ab-4876-e9e5-b7910d84e0f1"
      },
      "outputs": [
        {
          "data": {
            "text/plain": [
              "array([[644,  45],\n",
              "       [ 60,   5]])"
            ]
          },
          "execution_count": 47,
          "metadata": {},
          "output_type": "execute_result"
        }
      ],
      "source": [
        "c_m = confusion_matrix(y_test, pipe.predict(X_test))\n",
        "c_m"
      ]
    },
    {
      "cell_type": "markdown",
      "metadata": {
        "id": "M09jyO1BVsD3"
      },
      "source": [
        "Em casos de Diagnosticos o objetivo eh minimizar os falsos positivos,\n",
        "podemos trocar os modelos knn ou testas novos hiperparametros\n",
        "\n",
        "obs.: possivel utilizar 3 conjuntos de dados (train, test, validate)"
      ]
    },
    {
      "cell_type": "code",
      "execution_count": null,
      "metadata": {
        "colab": {
          "base_uri": "https://localhost:8080/"
        },
        "id": "pBNxv6hpTtEt",
        "outputId": "c0426d05-3320-4d91-f88d-8ee2218871e4"
      },
      "outputs": [
        {
          "name": "stdout",
          "output_type": "stream",
          "text": [
            "Falso Positivo = 7.958%\n"
          ]
        }
      ],
      "source": [
        "falsos_positivos = c_m[1][0] / c_m.sum()\n",
        "print(\"Falso Positivo = {:.3f}%\".format(falsos_positivos*100))"
      ]
    },
    {
      "cell_type": "markdown",
      "metadata": {},
      "source": [
        "Defnição da função da Matriz Confusão:"
      ]
    },
    {
      "cell_type": "code",
      "execution_count": null,
      "metadata": {},
      "outputs": [],
      "source": [
        "import numpy as np\n",
        "\n",
        "def confusion_matrix(real, predicted):\n",
        "    \n",
        "    #Define quais são as classes\n",
        "    negative = 0\n",
        "    positive = 1\n",
        "    \n",
        "    #Inicializa valores\n",
        "    tp, tn, fp, fn = 0, 0, 0, 0\n",
        "    \n",
        "    for (i,real_value) in enumerate(real):\n",
        "        if real_value == positive:\n",
        "            if real_value == predicted[i]:\n",
        "                tp = tp + 1\n",
        "            else:\n",
        "                fp = fp + 1\n",
        "        if real_value == negative:\n",
        "            if real_value == predicted[i]:\n",
        "                tn = tn + 1\n",
        "            else: \n",
        "                fn = fn + 1\n",
        "                \n",
        "    matrix = np.array([[tp,fn],[fp,tn]])\n",
        "    \n",
        "    return matrix"
      ]
    },
    {
      "cell_type": "markdown",
      "metadata": {},
      "source": [
        "Executando a Matriz Confusão e Métricas resultantes:"
      ]
    },
    {
      "cell_type": "code",
      "execution_count": null,
      "metadata": {},
      "outputs": [],
      "source": [
        "real = y_test.to_numpy()\n",
        "predicted = pipe.predict(X_test)\n",
        "matrix = confusion_matrix(real, predicted)\n",
        "\n",
        "print('Matriz Confusão: \\n{}'.format(matrix))"
      ]
    },
    {
      "cell_type": "code",
      "execution_count": null,
      "metadata": {},
      "outputs": [],
      "source": [
        "acc = (matrix[0][0] + matrix[1][1])/(matrix[0][0] + matrix[0][1] + matrix[1][0] + matrix[1][1])\n",
        "recall = (matrix[0][0])/(matrix[0][0] + matrix[0][1])\n",
        "precision = (matrix[0][0])/(matrix[0][0] + matrix[1][0])\n",
        "f_score = 2*((precision*recall)/(precision+recall))\n",
        "\n",
        "print('Acurácia: {:.2f}%'.format(acc*100))\n",
        "print('Recall: {:.2f}%'.format(recall*100))\n",
        "print('Precisão: {:.2f}%'.format(precision*100))\n",
        "print('F-Score: {:.2f}%'.format(f_score*100))"
      ]
    }
  ],
  "metadata": {
    "colab": {
      "authorship_tag": "ABX9TyNsn3wTcc071TKj9bAdF6en",
      "provenance": []
    },
    "kernelspec": {
      "display_name": "Python 3",
      "name": "python3"
    },
    "language_info": {
      "name": "python"
    }
  },
  "nbformat": 4,
  "nbformat_minor": 0
}
