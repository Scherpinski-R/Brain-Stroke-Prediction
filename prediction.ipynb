{
  "nbformat": 4,
  "nbformat_minor": 0,
  "metadata": {
    "colab": {
      "provenance": [],
      "authorship_tag": "ABX9TyOwh6gkn5f61vM+2jmYH10s"
    },
    "kernelspec": {
      "name": "python3",
      "display_name": "Python 3"
    },
    "language_info": {
      "name": "python"
    }
  },
  "cells": [
    {
      "cell_type": "code",
      "execution_count": 1,
      "metadata": {
        "id": "Mjo1hqRqwCu9"
      },
      "outputs": [],
      "source": [
        "import pandas as pd"
      ]
    },
    {
      "cell_type": "code",
      "source": [
        "from google.colab import data_table\n",
        "data_table.enable_dataframe_formatter()"
      ],
      "metadata": {
        "id": "-BUOx7iXyjJG"
      },
      "execution_count": 2,
      "outputs": []
    },
    {
      "cell_type": "code",
      "source": [
        "dataset_url = \"https://raw.githubusercontent.com/Scherpinski-R/Brain-Stroke-Prediction/main/BrainStrokeData/full_data.csv\""
      ],
      "metadata": {
        "id": "7tX445sPxXzc"
      },
      "execution_count": 3,
      "outputs": []
    },
    {
      "cell_type": "code",
      "source": [
        "df = pd.read_csv(dataset_url)"
      ],
      "metadata": {
        "id": "kxJRdjbS8uul"
      },
      "execution_count": 4,
      "outputs": []
    },
    {
      "cell_type": "markdown",
      "source": [
        "### Como sugerido pelo autor do Dataset, e como temos muitos mais dados para Stroke=0 do que Stroke=1, droparemos instancias com idade < 30"
      ],
      "metadata": {
        "id": "dJFOVUdM8wJh"
      }
    },
    {
      "cell_type": "code",
      "source": [
        "df = df.drop( df[df.age < 30].index )"
      ],
      "metadata": {
        "id": "ciLaXCqK8z-u"
      },
      "execution_count": 5,
      "outputs": []
    },
    {
      "cell_type": "code",
      "source": [
        "y = df[\"stroke\"]\n",
        "X = df.loc[:, df.columns!=\"stroke\"]"
      ],
      "metadata": {
        "id": "cqGmBr_JwYQE"
      },
      "execution_count": 6,
      "outputs": []
    },
    {
      "cell_type": "code",
      "source": [
        "categorical_features = [\"gender\", \"ever_married\", \"work_type\", \"Residence_type\", \"smoking_status\"]"
      ],
      "metadata": {
        "id": "YPsseoQgJf1J"
      },
      "execution_count": 7,
      "outputs": []
    },
    {
      "cell_type": "code",
      "source": [
        "numerical_features = [\"age\", \"avg_glucose_level\", \"bmi\"]"
      ],
      "metadata": {
        "id": "vAP_2eDBtIXS"
      },
      "execution_count": 8,
      "outputs": []
    },
    {
      "cell_type": "code",
      "source": [
        "from sklearn.compose import ColumnTransformer"
      ],
      "metadata": {
        "id": "SHgyDpx8J4Fs"
      },
      "execution_count": 9,
      "outputs": []
    },
    {
      "cell_type": "code",
      "source": [
        "from sklearn.preprocessing import OneHotEncoder"
      ],
      "metadata": {
        "id": "XU-eSf1PKP3C"
      },
      "execution_count": 10,
      "outputs": []
    },
    {
      "cell_type": "code",
      "source": [
        "from sklearn.preprocessing import StandardScaler"
      ],
      "metadata": {
        "id": "zNj9WLxIhO-Q"
      },
      "execution_count": 11,
      "outputs": []
    },
    {
      "cell_type": "code",
      "source": [
        "columns_trans = ColumnTransformer(\n",
        "    transformers=[\n",
        "    (\"cat\", OneHotEncoder(), categorical_features),\n",
        "    (\"num\", StandardScaler(), numerical_features)], \n",
        "    remainder='passthrough'\n",
        ")"
      ],
      "metadata": {
        "id": "hBuKn106J4zW"
      },
      "execution_count": 12,
      "outputs": []
    },
    {
      "cell_type": "code",
      "source": [
        "from sklearn.pipeline import make_pipeline"
      ],
      "metadata": {
        "id": "u6T5AdQ0eoqQ"
      },
      "execution_count": 13,
      "outputs": []
    },
    {
      "cell_type": "code",
      "source": [
        "from sklearn.neighbors import KNeighborsClassifier\n",
        "from sklearn.model_selection import train_test_split\n",
        "from sklearn.neighbors import KNeighborsClassifier"
      ],
      "metadata": {
        "id": "_wuQsU1jnk00"
      },
      "execution_count": 14,
      "outputs": []
    },
    {
      "cell_type": "code",
      "source": [
        "pipe = make_pipeline(columns_trans, KNeighborsClassifier(n_neighbors=7))"
      ],
      "metadata": {
        "id": "2sHosQ66e1Sm"
      },
      "execution_count": 15,
      "outputs": []
    },
    {
      "cell_type": "code",
      "source": [
        "X_train, X_test, y_train, y_test = train_test_split(X, y) # TO-DO: Criar K-Fold "
      ],
      "metadata": {
        "id": "2s2rR5BKxYzd"
      },
      "execution_count": 16,
      "outputs": []
    },
    {
      "cell_type": "code",
      "source": [
        "pipe.fit(X_train, y_train)"
      ],
      "metadata": {
        "id": "oQlyIbxbpgZU"
      },
      "execution_count": null,
      "outputs": []
    },
    {
      "cell_type": "code",
      "source": [
        "pipe.score(X_test, y_test) # To-DO: Criar matriz de confusao"
      ],
      "metadata": {
        "id": "6UZoxz5Muamy",
        "outputId": "0d5e078a-bf87-4155-8017-a66a3dac8274",
        "colab": {
          "base_uri": "https://localhost:8080/"
        }
      },
      "execution_count": 18,
      "outputs": [
        {
          "output_type": "execute_result",
          "data": {
            "text/plain": [
              "0.9203640500568828"
            ]
          },
          "metadata": {},
          "execution_count": 18
        }
      ]
    },
    {
      "cell_type": "code",
      "source": [
        "y.shape"
      ],
      "metadata": {
        "id": "3dbnbtA97aor",
        "outputId": "5da3e221-a291-44df-f9f7-d56399f805f9",
        "colab": {
          "base_uri": "https://localhost:8080/"
        }
      },
      "execution_count": 19,
      "outputs": [
        {
          "output_type": "execute_result",
          "data": {
            "text/plain": [
              "(3515,)"
            ]
          },
          "metadata": {},
          "execution_count": 19
        }
      ]
    },
    {
      "cell_type": "code",
      "source": [
        "y.sum()"
      ],
      "metadata": {
        "id": "bTWY7fHl7puO",
        "outputId": "6c233fc7-4ad2-4396-c6ce-6a524cfab90a",
        "colab": {
          "base_uri": "https://localhost:8080/"
        }
      },
      "execution_count": 20,
      "outputs": [
        {
          "output_type": "execute_result",
          "data": {
            "text/plain": [
              "246"
            ]
          },
          "metadata": {},
          "execution_count": 20
        }
      ]
    }
  ]
}